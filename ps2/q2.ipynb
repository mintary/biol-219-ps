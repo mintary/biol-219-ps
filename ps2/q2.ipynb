{
 "cells": [
  {
   "cell_type": "code",
   "execution_count": 13,
   "metadata": {},
   "outputs": [
    {
     "name": "stdout",
     "output_type": "stream",
     "text": [
      "ATCAAATGAATAAGCATTCATCGAATTTTTATGACACGCGTTCAATTTAAACACCACCATCATCACCATCATCCTGACTAGTCTTTCAGGCGATGTGTGCTGGAAGACATTCAGATCTTCCAGCGGCGCATGAACGCATGAGAAAGCCCCCGGAAGATCATCTTCCGGGGGCTTTTTTTTT\n"
     ]
    }
   ],
   "source": [
    "coding_strand = \"ATCAAATGAATAAGCATTCATCGAATTTTTATGACACGCGTTCAATTTAAACACCACCATCATCACCATCATCCTGACTAGTCTTTCAGGCGATGTGTGCTGGAAGACATTCAGATCTTCCAGCGGCGCATGAACGCATGAGAAAGCCCCCGGAAGATCATCTTCCGGGGGCTTTTTTTTT\"\n",
    "print(coding_strand)"
   ]
  },
  {
   "cell_type": "code",
   "execution_count": 14,
   "metadata": {},
   "outputs": [],
   "source": [
    "def generate_mrna(coding_strand):\n",
    "    mrna = \"\"\n",
    "    for base in coding_strand:\n",
    "        mrna = mrna + \"U\" if base == \"T\" else mrna + base\n",
    "    \n",
    "    return mrna"
   ]
  },
  {
   "cell_type": "code",
   "execution_count": 38,
   "metadata": {},
   "outputs": [
    {
     "name": "stdout",
     "output_type": "stream",
     "text": [
      "AUCAAAUGAAUAAGCAUUCAUCGAAUUUUUAUGACACGCGUUCAAUUUAAACACCACCAUCAUCACCAUCAUCCUGACUAGUCUUUCAGGCGAUGUGUGCUGGAAGACAUUCAGAUCUUCCAGCGGCGCAUGAACGCAUGAGAAAGCCCCCGGAAGAUCAUCUUCCGGGGGCUUUUUUUUU\n",
      "181\n",
      "ATCAAATGAATAAGCATTCATCGAATTTTTATGACACGCGTTCAATTTAAACACCACCATCATCACCATCATCCTGACTAGTCTTTCAGGCGATGTGTGCTGGAAGACATTCAGATCTTCCAGCGGCGCATGAACGCATGAGAAAGCCCCCGGAAGATCATCTTCCGGGGGCTTTTTTTTT\n"
     ]
    }
   ],
   "source": [
    "mrna_strand = generate_mrna(coding_strand)\n",
    "print(mrna_strand)\n",
    "print(len(mrna_strand))\n",
    "print(coding_strand)"
   ]
  },
  {
   "cell_type": "code",
   "execution_count": 39,
   "metadata": {},
   "outputs": [],
   "source": [
    "codon_to_amino_acid = {\n",
    "    # Phenylalanine\n",
    "    \"UUU\": \"F\", \"UUC\": \"F\",\n",
    "    # Leucine\n",
    "    \"UUA\": \"L\", \"UUG\": \"L\", \"CUU\": \"L\", \"CUC\": \"L\", \"CUA\": \"L\", \"CUG\": \"L\",\n",
    "    # Isoleucine\n",
    "    \"AUU\": \"I\", \"AUC\": \"I\", \"AUA\": \"I\",\n",
    "    # Methionine (Start codon)\n",
    "    \"AUG\": \"M\",\n",
    "    # Valine\n",
    "    \"GUU\": \"V\", \"GUC\": \"V\", \"GUA\": \"V\", \"GUG\": \"V\",\n",
    "    # Serine\n",
    "    \"UCU\": \"S\", \"UCC\": \"S\", \"UCA\": \"S\", \"UCG\": \"S\", \"AGU\": \"S\", \"AGC\": \"S\",\n",
    "    # Proline\n",
    "    \"CCU\": \"P\", \"CCC\": \"P\", \"CCA\": \"P\", \"CCG\": \"P\",\n",
    "    # Threonine\n",
    "    \"ACU\": \"T\", \"ACC\": \"T\", \"ACA\": \"T\", \"ACG\": \"T\",\n",
    "    # Alanine\n",
    "    \"GCU\": \"A\", \"GCC\": \"A\", \"GCA\": \"A\", \"GCG\": \"A\",\n",
    "    # Tyrosine\n",
    "    \"UAU\": \"Y\", \"UAC\": \"Y\",\n",
    "    # Histidine\n",
    "    \"CAU\": \"H\", \"CAC\": \"H\",\n",
    "    # Glutamine\n",
    "    \"CAA\": \"Q\", \"CAG\": \"Q\",\n",
    "    # Asparagine\n",
    "    \"AAU\": \"N\", \"AAC\": \"N\",\n",
    "    # Lysine\n",
    "    \"AAA\": \"K\", \"AAG\": \"K\",\n",
    "    # Aspartic Acid\n",
    "    \"GAU\": \"D\", \"GAC\": \"D\",\n",
    "    # Glutamic Acid\n",
    "    \"GAA\": \"E\", \"GAG\": \"E\",\n",
    "    # Cysteine\n",
    "    \"UGU\": \"C\", \"UGC\": \"C\",\n",
    "    # Tryptophan\n",
    "    \"UGG\": \"W\",\n",
    "    # Arginine\n",
    "    \"CGU\": \"R\", \"CGC\": \"R\", \"CGA\": \"R\", \"CGG\": \"R\", \"AGA\": \"R\", \"AGG\": \"R\",\n",
    "    # Glycine\n",
    "    \"GGU\": \"G\", \"GGC\": \"G\", \"GGA\": \"G\", \"GGG\": \"G\",\n",
    "    # Stop codons\n",
    "    \"UAA\": \"Stop\", \"UAG\": \"Stop\", \"UGA\": \"Stop\"\n",
    "}\n"
   ]
  },
  {
   "cell_type": "code",
   "execution_count": 42,
   "metadata": {},
   "outputs": [],
   "source": [
    "def translate_mrna(mrna_strand, sd_seq):\n",
    "    start_index = 0\n",
    "    found_sd = False\n",
    "\n",
    "    # search for start codon, ignoring the S/D sequence (hardcoded cause why not)\n",
    "    while start_index <= len(mrna_strand) - 3:\n",
    "        if mrna_strand[start_index:start_index + 3] == \"AUG\" and found_sd == True:\n",
    "            break\n",
    "        if mrna_strand[start_index:start_index + 3] == sd_seq:\n",
    "            found_sd = True\n",
    "        start_index += 1\n",
    "\n",
    "    if start_index == len(mrna_strand) - 1:\n",
    "        return \"No start codon found\"  \n",
    "\n",
    "    aa_seq = \"\"\n",
    "\n",
    "    for i in range(start_index, len(mrna_strand) - 2, 3):\n",
    "        codon = mrna_strand[i:i + 3]\n",
    "        if codon_to_amino_acid.get(codon) == \"Stop\":\n",
    "            break\n",
    "        elif codon in codon_to_amino_acid:\n",
    "            print(codon)\n",
    "            aa_seq += codon_to_amino_acid[codon] + \"-\"\n",
    "\n",
    "    return aa_seq.rstrip(\"-\")\n"
   ]
  },
  {
   "cell_type": "code",
   "execution_count": 43,
   "metadata": {},
   "outputs": [
    {
     "name": "stdout",
     "output_type": "stream",
     "text": [
      "AUG\n",
      "ACA\n",
      "CGC\n",
      "GUU\n",
      "CAA\n",
      "UUU\n",
      "AAA\n",
      "CAC\n",
      "CAC\n",
      "CAU\n",
      "CAU\n",
      "CAC\n",
      "CAU\n",
      "CAU\n",
      "CCU\n",
      "GAC\n",
      "M-T-R-V-Q-F-K-H-H-H-H-H-H-H-P-D\n"
     ]
    }
   ],
   "source": [
    "aa_sequence = translate_mrna(mrna_strand, \"GAA\")\n",
    "print(aa_sequence)"
   ]
  }
 ],
 "metadata": {
  "kernelspec": {
   "display_name": "Python 3",
   "language": "python",
   "name": "python3"
  },
  "language_info": {
   "codemirror_mode": {
    "name": "ipython",
    "version": 3
   },
   "file_extension": ".py",
   "mimetype": "text/x-python",
   "name": "python",
   "nbconvert_exporter": "python",
   "pygments_lexer": "ipython3",
   "version": "3.12.5"
  }
 },
 "nbformat": 4,
 "nbformat_minor": 2
}
